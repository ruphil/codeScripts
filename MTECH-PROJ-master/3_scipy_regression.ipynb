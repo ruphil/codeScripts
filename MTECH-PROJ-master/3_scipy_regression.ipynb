{
 "cells": [
  {
   "cell_type": "code",
   "execution_count": 1,
   "metadata": {},
   "outputs": [],
   "source": [
    "import numpy as np\n",
    "import matplotlib.pyplot as plt\n",
    "from scipy.optimize import curve_fit\n",
    "import pandas as pd\n",
    "from sklearn.model_selection import train_test_split"
   ]
  },
  {
   "cell_type": "code",
   "execution_count": 59,
   "metadata": {},
   "outputs": [],
   "source": [
    "def load_data(in_file):\n",
    "    SM_ML_df = pd.read_excel(in_file, sheet_name='SM_ML_values')\n",
    "    reqd_data_arr = ['Plot_Id', 'Crop_Type', 'Field_SM', 'rsm_VATI', 'max_RSM', 'Soil_Class']\n",
    "    SM_ML_df = SM_ML_df[reqd_data_arr]\n",
    "    SM_ML_df.replace(0, np.nan, inplace=True)\n",
    "    SM_ML_df.replace(-np.inf, np.nan, inplace=True)\n",
    "    SM_ML_df = SM_ML_df.dropna(axis=0, how='any')\n",
    "    return SM_ML_df\n",
    "\n",
    "def replace_df_with_crop_classes_andMaptoInt(basepath, SM_ML_df):\n",
    "    # Replacing with crop classes\n",
    "    crop_class_file = basepath + 'd_crop_classes.xlsx'\n",
    "    crop_class_df = pd.read_excel(crop_class_file, sheet_name='crop_classes')\n",
    "    # print (crop_class_df)\n",
    "\n",
    "    replacing_dict = {}\n",
    "    for index, each_row in crop_class_df.iterrows():\n",
    "    #     print (each_row, type(each_row))\n",
    "        replacing_dict[each_row['Crop_Type']] = 'class' + str(each_row['Crop_Class'])\n",
    "    # print (replacing_dict)\n",
    "\n",
    "    SM_ML_df[\"Crop_Type\"] = SM_ML_df[\"Crop_Type\"].str.strip().replace(replacing_dict)\n",
    "    # print (SM_ML_df)\n",
    "\n",
    "    # Forming Dictionary for crop Type and replacing with integer in Crop Type Column\n",
    "    Crop_Type_nparray = SM_ML_df['Crop_Type'].str.strip().unique()\n",
    "    # print (Crop_Type_nparray)\n",
    "\n",
    "    int_toCrop_type_dict = dict(enumerate(Crop_Type_nparray))\n",
    "    crop_type_toInt_dict = {y:x for x,y in int_toCrop_type_dict.items()}\n",
    "    # print (int_toCrop_type_dict)\n",
    "\n",
    "    SM_ML_df[\"Crop_Type\"] = SM_ML_df[\"Crop_Type\"].str.strip().map(crop_type_toInt_dict)\n",
    "#     print (SM_ML_df)\n",
    "    return SM_ML_df\n",
    "\n",
    "def make_data_ready(SM_ML_df):\n",
    "    X = SM_ML_df[['Crop_Type', 'rsm_VATI', 'max_RSM', 'Soil_Class', 'Field_SM']]\n",
    "    y = SM_ML_df[['Field_SM']]\n",
    "    X_train, X_test, y_train, y_test = train_test_split(X, y, test_size=0.1)\n",
    "#     X_train, X_test, y_train, y_test = X_train.values, X_test.values, y_train.values.flatten(), y_test.values.flatten()\n",
    "    return (X_train, X_test, y_train, y_test)\n",
    "\n",
    "def soil_mapping_function(X, k1, k2, s1):\n",
    "    a,b = X\n",
    "    return k1 + k2 * np.power(a, s1) / b\n",
    "\n",
    "def plot_y_vs_y_predicted(coeff_k, coeff_s, X_test, y_test):\n",
    "#     print(coeff_k, coeff_s)\n",
    "\n",
    "    soil_coeff_dict = {}\n",
    "    keys = range(5)\n",
    "    for i in keys:\n",
    "        j = i+1\n",
    "        soil_coeff_dict[j] = coeff_s[i]\n",
    "#     print(soil_coeff_dict)\n",
    "    \n",
    "    test_DF = pd.DataFrame(data=np.append(X_test, y_test.reshape(-1,1), axis=1), columns=['Crop_Type', 'RSM', 'max_RSM', 'Soil_Class', 'Field_SM'])\n",
    "    test_DF['Soil_Class'] = test_DF['Soil_Class'].map(soil_coeff_dict)\n",
    "#     print(test_DF)\n",
    "#     print(coeff_k)\n",
    "    test_DF['pred_Field_SM'] = coeff_k[0] + coeff_k[1] * test_DF['RSM']**test_DF['Soil_Class']/test_DF['max_RSM']\n",
    "#     print(test_DF)\n",
    "    plt.scatter(test_DF['pred_Field_SM'], test_DF['Field_SM'])"
   ]
  },
  {
   "cell_type": "code",
   "execution_count": 82,
   "metadata": {},
   "outputs": [],
   "source": [
    "# basepath = 'C:\\\\Users\\\\soi\\\\Documents\\\\MTECH-PROJ-Phase-2\\\\'\n",
    "basepath = 'C:\\\\Users\\\\rukmangadan\\\\Documents\\\\MTECH-PROJ-Phase-2\\\\'\n",
    "# basepath = 'C:\\\\Users\\\\theorist\\\\Documents\\\\MTECH-PROJ-Phase-2\\\\'\n",
    "in_file = basepath + 'd_soil_moisture_comparison_data.xlsx'\n",
    "SM_ML_df = load_data(in_file)\n",
    "SM_ML_df = replace_df_with_crop_classes_andMaptoInt(basepath, SM_ML_df)\n",
    "#     print(SM_ML_df)\n",
    "X_train, X_test, y_train, y_test = make_data_ready(SM_ML_df)"
   ]
  },
  {
   "cell_type": "code",
   "execution_count": 85,
   "metadata": {},
   "outputs": [
    {
     "name": "stdout",
     "output_type": "stream",
     "text": [
      "[ 4.67779436e+03 -4.38403077e+03  1.40167685e-04]\n"
     ]
    }
   ],
   "source": [
    "# print (X_train[X_train['Soil_Class']==3], y_train)\n",
    "soil_class = 5\n",
    "train_input = X_train[X_train['Soil_Class']==soil_class][['rsm_VATI', 'max_RSM']].values\n",
    "train_output = X_train[X_train['Soil_Class']==soil_class][['Field_SM']].values\n",
    "# print (train_input, train_output)\n",
    "params, params_cov = curve_fit(soil_mapping_function, (train_input[:,0], train_input[:,1]), train_output[:,0])\n",
    "print(params)"
   ]
  },
  {
   "cell_type": "code",
   "execution_count": null,
   "metadata": {},
   "outputs": [],
   "source": []
  }
 ],
 "metadata": {
  "kernelspec": {
   "display_name": "Python 3",
   "language": "python",
   "name": "python3"
  },
  "language_info": {
   "codemirror_mode": {
    "name": "ipython",
    "version": 3
   },
   "file_extension": ".py",
   "mimetype": "text/x-python",
   "name": "python",
   "nbconvert_exporter": "python",
   "pygments_lexer": "ipython3",
   "version": "3.6.4"
  }
 },
 "nbformat": 4,
 "nbformat_minor": 2
}
