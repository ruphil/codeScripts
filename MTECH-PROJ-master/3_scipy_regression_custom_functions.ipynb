{
 "cells": [
  {
   "cell_type": "code",
   "execution_count": 1,
   "metadata": {
    "scrolled": true
   },
   "outputs": [],
   "source": [
    "from scipy.optimize import curve_fit\n",
    "import numpy as np\n",
    "import matplotlib.pyplot as plt"
   ]
  },
  {
   "cell_type": "code",
   "execution_count": 28,
   "metadata": {},
   "outputs": [],
   "source": [
    "def data_generator(num_data):\n",
    "    a = np.random.rand(num_data).astype('float32')\n",
    "    b = np.random.rand(num_data).astype('float32')\n",
    "    c = np.random.rand(num_data).astype('float32')\n",
    "    d = np.random.rand(num_data).astype('float32')\n",
    "    return a,b,c,d\n",
    "\n",
    "def function1(a,b,c,d):\n",
    "    return 2*a+3*b+5*c+7*d\n",
    "\n",
    "def function2(a,b,c,d):\n",
    "    return np.sin(a)*np.cos(b)*np.sin(c)*np.cos(d)\n",
    "\n",
    "def function3(a,b,c,d):\n",
    "    return a + np.power(b,c)*d\n",
    "\n",
    "def function4(a,b,c,d):\n",
    "    return a*b*c*d\n",
    "    \n",
    "def train_test_split(input_matrix, Y):\n",
    "    num_data = Y.shape[0]\n",
    "    num_train = round(num_data*.9)\n",
    "    num_test = round(num_data*.1)\n",
    "    return input_matrix[:num_train], Y[:num_train], input_matrix[-num_test:], Y[-num_test:]\n",
    "\n",
    "def scipy_curve_fit_func1(X, k1, k2, k3, k4):\n",
    "    a,b,c,d = X\n",
    "    return k1*a+k2*b+k3*c+k4*d\n",
    "\n",
    "def scipy_curve_fit_func1(X, k1, k2, k3, k4):\n",
    "    a,b,c,d = X\n",
    "    return k1*k2*k3*k4*np.sin(a)*np.cos(b)*np.sin(c)*np.cos(d)\n",
    "    \n",
    "def plot_y_vs_y_predicted(y_pred, y_test):\n",
    "    plt.scatter(y_test, y_pred)\n",
    "    plt.show()"
   ]
  },
  {
   "cell_type": "code",
   "execution_count": 19,
   "metadata": {},
   "outputs": [],
   "source": [
    "num_data = 10000\n",
    "a,b,c,d = data_generator(num_data)\n",
    "input_matrix = np.stack((a, b, c, d), axis=-1)\n",
    "Y = function1(a,b,c,d)"
   ]
  },
  {
   "cell_type": "code",
   "execution_count": 30,
   "metadata": {},
   "outputs": [
    {
     "name": "stdout",
     "output_type": "stream",
     "text": [
      "[2.64942377 1.97480746 2.57587486 2.57648116]\n",
      "[[-1.66577584e+13  1.19198858e+10  4.33358021e+12  1.18403207e+13]\n",
      " [ 1.59486969e+13  6.31509969e+12  5.44036469e+10 -2.37728718e+13]\n",
      " [ 1.83314157e+13  4.19040123e+12 -1.16582066e+13 -1.16133637e+13]\n",
      " [-2.28960744e+13 -1.24201677e+13  7.37309327e+12  3.10446369e+13]]\n"
     ]
    }
   ],
   "source": [
    "train_input, train_output, test_input, test_output = train_test_split(input_matrix, Y)\n",
    "# print (train_input, train_output)\n",
    "params, params_cov = curve_fit(scipy_curve_fit_func1, (train_input[:,0], train_input[:,1], train_input[:,2], train_input[:,3]), train_output)\n",
    "print(params)\n",
    "print(params_cov)"
   ]
  },
  {
   "cell_type": "code",
   "execution_count": null,
   "metadata": {},
   "outputs": [],
   "source": []
  }
 ],
 "metadata": {
  "kernelspec": {
   "display_name": "Python 3",
   "language": "python",
   "name": "python3"
  },
  "language_info": {
   "codemirror_mode": {
    "name": "ipython",
    "version": 3
   },
   "file_extension": ".py",
   "mimetype": "text/x-python",
   "name": "python",
   "nbconvert_exporter": "python",
   "pygments_lexer": "ipython3",
   "version": "3.6.4"
  }
 },
 "nbformat": 4,
 "nbformat_minor": 2
}
