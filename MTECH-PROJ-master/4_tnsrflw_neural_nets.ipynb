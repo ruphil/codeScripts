{
 "cells": [
  {
   "cell_type": "code",
   "execution_count": 1,
   "metadata": {},
   "outputs": [
    {
     "name": "stderr",
     "output_type": "stream",
     "text": [
      "C:\\Users\\rukmangadan\\Anaconda3\\lib\\site-packages\\h5py\\__init__.py:36: FutureWarning: Conversion of the second argument of issubdtype from `float` to `np.floating` is deprecated. In future, it will be treated as `np.float64 == np.dtype(float).type`.\n",
      "  from ._conv import register_converters as _register_converters\n"
     ]
    }
   ],
   "source": [
    "import tensorflow as tf\n",
    "import numpy as np\n",
    "import pandas as pd\n",
    "from sklearn.model_selection import train_test_split\n",
    "import matplotlib.pyplot as plt"
   ]
  },
  {
   "cell_type": "code",
   "execution_count": 2,
   "metadata": {},
   "outputs": [],
   "source": [
    "def load_data(in_file):\n",
    "    SM_ML_df = pd.read_excel(in_file, sheet_name='SM_ML_values')\n",
    "    reqd_data_arr = ['Plot_Id', 'Crop_Type', 'Field_SM', 'rsm_VATI', 'max_RSM', 'Soil_Class']\n",
    "    SM_ML_df = SM_ML_df[reqd_data_arr]\n",
    "    SM_ML_df.replace(0, np.nan, inplace=True)\n",
    "    SM_ML_df.replace(-np.inf, np.nan, inplace=True)\n",
    "    SM_ML_df = SM_ML_df.dropna(axis=0, how='any')\n",
    "    return SM_ML_df\n",
    "\n",
    "def replace_df_with_crop_classes_andMaptoInt(basepath, SM_ML_df):\n",
    "    # Replacing with crop classes\n",
    "    crop_class_file = basepath + 'd_crop_classes.xlsx'\n",
    "    crop_class_df = pd.read_excel(crop_class_file, sheet_name='crop_classes')\n",
    "    # print (crop_class_df)\n",
    "\n",
    "    replacing_dict = {}\n",
    "    for index, each_row in crop_class_df.iterrows():\n",
    "    #     print (each_row, type(each_row))\n",
    "        replacing_dict[each_row['Crop_Type']] = 'class' + str(each_row['Crop_Class'])\n",
    "#     print (replacing_dict)\n",
    "\n",
    "    SM_ML_df[\"Crop_Type\"] = SM_ML_df[\"Crop_Type\"].str.strip().replace(replacing_dict)\n",
    "    # print (SM_ML_df)\n",
    "\n",
    "    # Forming Dictionary for crop Type and replacing with integer in Crop Type Column\n",
    "    Crop_Type_nparray = np.sort(SM_ML_df['Crop_Type'].str.strip().unique())\n",
    "#     print (Crop_Type_nparray)\n",
    "\n",
    "    int_toCrop_type_dict = dict(enumerate(Crop_Type_nparray))\n",
    "    crop_type_toInt_dict = {y:(x+1) for x,y in int_toCrop_type_dict.items()}\n",
    "#     print (int_toCrop_type_dict)\n",
    "#     print(crop_type_toInt_dict)\n",
    "\n",
    "    SM_ML_df[\"Crop_Type\"] = SM_ML_df[\"Crop_Type\"].str.strip().map(crop_type_toInt_dict)\n",
    "#     print (SM_ML_df)\n",
    "#     print(SM_ML_df['Crop_Type'].unique())\n",
    "#     print(SM_ML_df['Soil_Class'].unique())\n",
    "    return SM_ML_df\n",
    "\n",
    "def make_data_ready(SM_ML_df):\n",
    "    X = SM_ML_df[['Crop_Type', 'rsm_VATI', 'max_RSM', 'Soil_Class']]\n",
    "    y = SM_ML_df[['Field_SM']]\n",
    "    X_train, X_test, y_train, y_test = train_test_split(X, y, test_size=0.1)\n",
    "    X_train, X_test, y_train, y_test = X_train.values, X_test.values, y_train, y_test\n",
    "    return (X_train, X_test, y_train, y_test)"
   ]
  },
  {
   "cell_type": "code",
   "execution_count": 3,
   "metadata": {},
   "outputs": [],
   "source": [
    "# basepath = 'C:\\\\Users\\\\soi\\\\Documents\\\\MTECH-PROJ-Phase-2\\\\'\n",
    "basepath = 'C:\\\\Users\\\\rukmangadan\\\\Documents\\\\MTECH-PROJ-Phase-2\\\\'\n",
    "# basepath = 'C:\\\\Users\\\\theorist\\\\Documents\\\\MTECH-PROJ-Phase-2\\\\'\n",
    "in_file = basepath + 'd_soil_moisture_comparison_data.xlsx'\n",
    "SM_ML_df = load_data(in_file)\n",
    "SM_ML_df = replace_df_with_crop_classes_andMaptoInt(basepath, SM_ML_df)\n",
    "#     print(SM_ML_df)\n",
    "X_train, X_test, y_train, y_test = make_data_ready(SM_ML_df)"
   ]
  },
  {
   "cell_type": "code",
   "execution_count": 33,
   "metadata": {},
   "outputs": [],
   "source": [
    "def tnsrflw(train_input, y_train, test_input, optimizer_type, epochs):\n",
    "    train_output = y_train.values.flatten()\n",
    "    \n",
    "    A = tf.placeholder(\"float\", [None, 4])\n",
    "    Y = tf.placeholder(\"float\", [None, 1])\n",
    "    \n",
    "    layer_1 = tf.layers.dense(A, 256)\n",
    "    layer_2 = tf.layers.dense(layer_1, 256)\n",
    "    layer_3 = tf.layers.dense(layer_2, 256)\n",
    "    layer_4 = tf.layers.dense(layer_3, 256)\n",
    "    layer_5 = tf.layers.dense(layer_4, 256)\n",
    "    pred = tf.layers.dense(layer_5, 1)\n",
    "    \n",
    "    cost = tf.reduce_max(tf.square(pred - Y))\n",
    "    optimizer = optimizer_type.minimize(cost)\n",
    "    \n",
    "    init = tf.global_variables_initializer()\n",
    "\n",
    "    sess = tf.Session()\n",
    "    sess.run(init)\n",
    "    \n",
    "    step = 0\n",
    "    total_steps = train_input.shape[0] * epochs\n",
    "    for epoch in range(epochs):\n",
    "        for (x, y) in zip(train_input, train_output):\n",
    "            sess.run(optimizer, feed_dict={A:[[x[0],x[1],x[2],x[3]]], Y:[[y]]})\n",
    "            if(step % (total_steps/4) == 0):\n",
    "                print(\"Step\", step, \"of\", total_steps, \":\")\n",
    "                print (\"Cost: \",sess.run(cost, feed_dict={A:np.transpose([train_input[:,0],train_input[:,1],train_input[:,2],train_input[:,3]]), Y:np.transpose([train_output])}),\"\\n\")\n",
    "            step+=1\n",
    "    \n",
    "    print(\"Step\", total_steps, \"of\", total_steps, \":\")\n",
    "    print (\"Cost: \",sess.run(cost, feed_dict={A:np.transpose([train_input[:,0],train_input[:,1],train_input[:,2],train_input[:,3]]), Y:np.transpose([train_output])}),\"\\n\")\n",
    "    \n",
    "    y_pred_test = sess.run(pred, feed_dict={A:np.transpose([test_input[:,0],test_input[:,1],test_input[:,2],test_input[:,3]])})\n",
    "    y_pred_train = sess.run(pred, feed_dict={A:np.transpose([train_input[:,0],train_input[:,1],train_input[:,2],train_input[:,3]])})\n",
    "    \n",
    "    sess.close()\n",
    "    return y_pred_test, y_pred_train"
   ]
  },
  {
   "cell_type": "code",
   "execution_count": null,
   "metadata": {},
   "outputs": [
    {
     "name": "stdout",
     "output_type": "stream",
     "text": [
      "Step 0 of 682000 :\n",
      "Cost:  11337.722 \n",
      "\n"
     ]
    }
   ],
   "source": [
    "optimizer_type = tf.train.AdamOptimizer(0.001)\n",
    "epochs = 1000\n",
    "y_pred_test, y_pred_train = tnsrflw(X_train, y_train, X_test, optimizer_type, epochs)"
   ]
  },
  {
   "cell_type": "code",
   "execution_count": 35,
   "metadata": {},
   "outputs": [],
   "source": [
    "def plot_y_vs_y_predicted(y_actual, y_pred):\n",
    "    y_actual_val = y_actual.values.flatten()\n",
    "    v = [0, 40, 0, 40]\n",
    "    plt.axis(v)\n",
    "    plt.scatter(y_actual_val, y_pred)\n",
    "    plt.xlabel(\"Y_Actual\")\n",
    "    plt.ylabel(\"Y_Predicted\")\n",
    "    plt.show()\n",
    "    \n",
    "def number_of_points_statistics(y_test, y_pred_test, y_train, y_pred_train):\n",
    "    y_test_val = y_test.values.flatten()\n",
    "    y_train_val = y_train.values.flatten()\n",
    "    no_of_points_above = 0\n",
    "    no_of_points_matching = 0\n",
    "    no_of_points_below = 0\n",
    "    \n",
    "    for Y1, Y2 in zip(y_test_val, y_pred_test):\n",
    "        if(0.7 * Y2 < Y1 and Y1 < 1.3 * Y2):\n",
    "            no_of_points_matching += 1\n",
    "        elif (Y1 < Y2):\n",
    "            no_of_points_above += 1\n",
    "        elif (Y2 < Y1):\n",
    "            no_of_points_below += 1\n",
    "    \n",
    "    for Y1, Y2 in zip(y_train_val, y_pred_train):\n",
    "        if(0.7 * Y2 < Y1 and Y1 < 1.3 * Y2):\n",
    "            no_of_points_matching += 1\n",
    "        elif (Y1 < Y2):\n",
    "            no_of_points_above += 1\n",
    "        elif (Y2 < Y1):\n",
    "            no_of_points_below += 1\n",
    "    \n",
    "    print(\"no_of_points_matching: \", no_of_points_matching)\n",
    "    print(\"no_of_points_above: \", no_of_points_above)\n",
    "    print(\"no_of_points_below: \", no_of_points_below)"
   ]
  },
  {
   "cell_type": "code",
   "execution_count": 36,
   "metadata": {},
   "outputs": [
    {
     "name": "stdout",
     "output_type": "stream",
     "text": [
      "no_of_points_matching:  225\n",
      "no_of_points_above:  330\n",
      "no_of_points_below:  203\n",
      "Test Data Graph:\n"
     ]
    },
    {
     "data": {
      "image/png": "[encoded data removed]",
      "text/plain": [
       "<matplotlib.figure.Figure at 0x13cb00d84e0>"
      ]
     },
     "metadata": {},
     "output_type": "display_data"
    },
    {
     "name": "stdout",
     "output_type": "stream",
     "text": [
      "Trained Data Graph:\n"
     ]
    },
    {
     "data": {
      "image/png": "[encoded data removed]",
      "text/plain": [
       "<matplotlib.figure.Figure at 0x13cb0115f28>"
      ]
     },
     "metadata": {},
     "output_type": "display_data"
    }
   ],
   "source": [
    "number_of_points_statistics(y_test, y_pred_test, y_train, y_pred_train)\n",
    "print(\"Test Data Graph:\")\n",
    "plot_y_vs_y_predicted(y_test, y_pred_test)\n",
    "print(\"Trained Data Graph:\")\n",
    "plot_y_vs_y_predicted(y_train, y_pred_train)"
   ]
  },
  {
   "cell_type": "code",
   "execution_count": null,
   "metadata": {},
   "outputs": [],
   "source": []
  }
 ],
 "metadata": {
  "anaconda-cloud": {},
  "kernelspec": {
   "display_name": "Python 3",
   "language": "python",
   "name": "python3"
  },
  "language_info": {
   "codemirror_mode": {
    "name": "ipython",
    "version": 3
   },
   "file_extension": ".py",
   "mimetype": "text/x-python",
   "name": "python",
   "nbconvert_exporter": "python",
   "pygments_lexer": "ipython3",
   "version": "3.6.4"
  }
 },
 "nbformat": 4,
 "nbformat_minor": 1
}
